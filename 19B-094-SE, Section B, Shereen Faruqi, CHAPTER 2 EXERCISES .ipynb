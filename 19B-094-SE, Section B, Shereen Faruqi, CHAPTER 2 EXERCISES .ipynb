{
 "cells": [
  {
   "cell_type": "markdown",
   "metadata": {},
   "source": [
    "# CHAPTER 2 EXERCISES "
   ]
  },
  {
   "cell_type": "markdown",
   "metadata": {},
   "source": [
    "### Exercise 2.11 (a):"
   ]
  },
  {
   "cell_type": "code",
   "execution_count": 54,
   "metadata": {},
   "outputs": [
    {
     "name": "stdout",
     "output_type": "stream",
     "text": [
      "The sum of the negative integers: -28\n",
      "\n",
      "The average age of the kids: 10.5\n",
      "\n",
      "2 to the power of negative 20 is: 9.5367431640625e-07\n",
      "\n",
      "Number of times 61 goes into 4356: 71\n",
      "\n",
      "The remainder is: 25\n"
     ]
    }
   ],
   "source": [
    "#Part a\n",
    "integers=(-7)+(-6)+(-5)+(-4)+(-3)+(-2)+(-1)\n",
    "print(\"The sum of the negative integers:\",integers)\n",
    "\n",
    "print()\n",
    "#Part b\n",
    "group1=9\n",
    "group2=10\n",
    "group3=11\n",
    "group4=12\n",
    "#The average age of the kids at the summer camp\n",
    "average=(9+10+11+12)/(4)\n",
    "print(\"The average age of the kids:\",average)\n",
    "\n",
    "print()\n",
    "#Part c\n",
    "exponent=2**(-20)\n",
    "print(\"2 to the power of negative 20 is:\", exponent)\n",
    "\n",
    "print()\n",
    "#Part d\n",
    "integer_div=4356//61\n",
    "print(\"Number of times 61 goes into 4356:\", integer_div)\n",
    "\n",
    "print()\n",
    "#Part e\n",
    "remainder=4356%61\n",
    "print(\"The remainder is:\",remainder)"
   ]
  },
  {
   "cell_type": "markdown",
   "metadata": {},
   "source": [
    "### Exercise 2.12 (a), (b), (c), (d), (e), (f):"
   ]
  },
  {
   "cell_type": "code",
   "execution_count": 23,
   "metadata": {},
   "outputs": [
    {
     "name": "stdout",
     "output_type": "stream",
     "text": [
      "(a): -+\n",
      "(b): -+-\n",
      "(c): +--\n",
      "(d): +--+--\n",
      "(e): +--+--+--+--+--+--+--+--+--+--+\n",
      "(f): +-+++--+-+++--+-+++--+-+++--+-+++--\n"
     ]
    }
   ],
   "source": [
    "s1='-'\n",
    "s2='+'\n",
    "#Part a\n",
    "a='-'+'+'\n",
    "print(\"(a):\",a)\n",
    "\n",
    "#Part b\n",
    "b=('-')+('+')+('-')\n",
    "print(\"(b):\",b)\n",
    "\n",
    "#Part c\n",
    "c=('+')+('-')+('-')\n",
    "print(\"(c):\",c)\n",
    "\n",
    "#Part d\n",
    "d=('+'+'-'+'-')*2\n",
    "print(\"(d):\",d)\n",
    "\n",
    "#Part e\n",
    "e=(('+'+'-'+'-')*10)+('+')\n",
    "print('(e):',e)\n",
    "\n",
    "#Part f\n",
    "f=('+'+'-'+('+'*3)+('-'*2)+'+'+'-'+('+'*3)+('-'*2)+'+'+'-'+('+'*3)+('-'*2)+'+'+'-'+('+'*3)+('-'*2)+'+'+'-'+('+'*3)+('-'*2))\n",
    "print('(f):',f)"
   ]
  },
  {
   "cell_type": "markdown",
   "metadata": {},
   "source": [
    "### Exercise 2.13: Indexing Operator"
   ]
  },
  {
   "cell_type": "code",
   "execution_count": 26,
   "metadata": {},
   "outputs": [
    {
     "name": "stdout",
     "output_type": "stream",
     "text": [
      "At 0: a\n",
      "At 2: c\n",
      "At 25: z\n",
      "At 24: y\n",
      "At 16: q\n"
     ]
    }
   ],
   "source": [
    "   \n",
    "s='abcdefghijklmnopqrstuvwxyz' \n",
    "#Evaluate 'a'\n",
    "s[0]\n",
    "print(\"At 0:\",s[0])\n",
    "\n",
    "#Evaluate 'c'\n",
    "s[2]\n",
    "print('At 2:',s[2])\n",
    "\n",
    "#Evaluate 'z'\n",
    "s[25]\n",
    "print('At 25:',s[25])\n",
    "\n",
    "#Evaluate 'y'\n",
    "s[24]\n",
    "print('At 24:',s[24])\n",
    "\n",
    "#Evaluate 'q'\n",
    "s[16]\n",
    "print(\"At 16:\",s[16])\n"
   ]
  },
  {
   "cell_type": "markdown",
   "metadata": {},
   "source": [
    "### Exercise 2.14: Boolean Expression"
   ]
  },
  {
   "cell_type": "code",
   "execution_count": 51,
   "metadata": {},
   "outputs": [
    {
     "name": "stdout",
     "output_type": "stream",
     "text": [
      "a.) True\n",
      "b.) False\n",
      "c.) False\n",
      "d.) False\n",
      "e.) True\n",
      "f.) False\n",
      "g.) False\n"
     ]
    }
   ],
   "source": [
    "s='goodbye'\n",
    "#Part a\n",
    "'g' in s[0]\n",
    "print( \"a.)\",'g' in s[0])\n",
    "\n",
    "#Part b\n",
    "'g' in s[6]\n",
    "print(\"b.)\",'g' in s[6])\n",
    "\n",
    "#Part c\n",
    "'ga' in s[0]+s[1]\n",
    "print(\"c.)\", 'ga' in s[0]+s[1])\n",
    "\n",
    "#Part d\n",
    "'x' in s[5]\n",
    "print(\"d.)\", 'x' in s[5])\n",
    "\n",
    "#Part e\n",
    "'d' in s[3]\n",
    "print(\"e.)\", 'd' in s[3])\n",
    "\n",
    "#Part f\n",
    "s[0]==s[6]   #or it could also be 'g'=='e'\n",
    "print(\"f.)\", s[0]==s[6])\n",
    "\n",
    "#Part g\n",
    "s[3]+s[4]+s[5]+s[6]=='tion'  #or it could also be 'dbye'=='tion'\n",
    "print(\"g.)\",s[3]+s[4]+s[5]+s[6]=='tion')"
   ]
  },
  {
   "cell_type": "markdown",
   "metadata": {},
   "source": [
    "### Exercise 2.15:"
   ]
  },
  {
   "cell_type": "code",
   "execution_count": 5,
   "metadata": {},
   "outputs": [
    {
     "name": "stdout",
     "output_type": "stream",
     "text": [
      "a.) 1\n",
      "b.) ['misinterpretation', 'misrepresentation']\n",
      "c.) False\n",
      "d.) True\n"
     ]
    }
   ],
   "source": [
    "word1=\"anachronistically\"\n",
    "word2=\"counterintuitive\"\n",
    "\n",
    "#Part a:\n",
    "diff=(len(word1))-(len(word2))\n",
    "print(\"a.)\",diff)\n",
    "\n",
    "#Part b: put 'misinterpretation' before 'misrepresentation'\n",
    "List=['misrepresentation','misinterpretation'] \n",
    "List.sort()\n",
    "print(\"b.)\",List)\n",
    "\n",
    "#Part c: \n",
    "word3='ﬂoccinaucinihilipiliﬁcation'\n",
    "'e' in word3\n",
    "print(\"c.)\", 'e' in word3)\n",
    "\n",
    "#Part d:\n",
    "word4='counterrevolution'\n",
    "word5='counter'\n",
    "word6='resolution'\n",
    "len(word4)==(len(word5)+len(word6))\n",
    "print(\"d.)\", len(word4)==(len(word5)+len(word6)))\n"
   ]
  },
  {
   "cell_type": "markdown",
   "metadata": {},
   "source": [
    "### Exercise 2.16:"
   ]
  },
  {
   "cell_type": "code",
   "execution_count": 10,
   "metadata": {},
   "outputs": [
    {
     "name": "stdout",
     "output_type": "stream",
     "text": [
      "Average: 6.5\n",
      "List: ['paper', 'staples', 'pencils']\n",
      "Full Name: John Fitzgerald Kennedy\n"
     ]
    }
   ],
   "source": [
    "#Part a:\n",
    "a=6\n",
    "b=7\n",
    "\n",
    "#Part b:\n",
    "c=(a+b)/2\n",
    "print('Average:',c)\n",
    "\n",
    "#Part c:\n",
    "inventory=['paper','staples','pencils']\n",
    "print('List:',inventory)\n",
    "\n",
    "#Part d:\n",
    "first='John'\n",
    "middle='Fitzgerald'\n",
    "last='Kennedy'\n",
    "\n",
    "#Part e:\n",
    "fullname=first+' '+middle+' '+last\n",
    "print('Full Name:',fullname)"
   ]
  },
  {
   "cell_type": "markdown",
   "metadata": {},
   "source": [
    "### Exercise 2.17:"
   ]
  },
  {
   "cell_type": "code",
   "execution_count": 35,
   "metadata": {},
   "outputs": [
    {
     "name": "stdout",
     "output_type": "stream",
     "text": [
      "a.) 8 True\n",
      "b.) False\n",
      "c.) True\n",
      "d.) True\n",
      "e.) False\n",
      "f.) False\n"
     ]
    }
   ],
   "source": [
    "#Part a:\n",
    "s1=17\n",
    "s2=-9\n",
    "s1+s2<10\n",
    "print('a.)',s1+s2,s1+s2<10)\n",
    "\n",
    "#Part b:\n",
    "inventory=['paper','staples','pencils']\n",
    "first='John'\n",
    "middle='Fitzgerald'\n",
    "last='Kennedy'\n",
    "fullname=first+' '+middle+' '+last\n",
    "\n",
    "len(inventory)*5==len(fullname)\n",
    "print('b.)',len(inventory)*5==len(fullname))\n",
    "\n",
    "#Part c:\n",
    "c=6.5\n",
    "c<24\n",
    "print('c.)',c<24)\n",
    "\n",
    "#Part d:\n",
    "a=6\n",
    "b=7\n",
    "between=6.75\n",
    "\n",
    "a<between<b\n",
    "print('d.)',a<between<b)\n",
    "\n",
    "#Part e:\n",
    "length=len(first)<len(middle)<len(last)\n",
    "print('e.)',length)\n",
    "\n",
    "#Part f:\n",
    "inventory1=[]\n",
    "confirm=(len(inventory)==len(inventory1) or len(inventory)>10)\n",
    "print('f.)',confirm)"
   ]
  },
  {
   "cell_type": "markdown",
   "metadata": {},
   "source": [
    "### Exercise 2.18:"
   ]
  },
  {
   "cell_type": "code",
   "execution_count": 46,
   "metadata": {},
   "outputs": [
    {
     "name": "stdout",
     "output_type": "stream",
     "text": [
      "a.) ['rose', 'bougainvillea', 'yucca', 'marigold', 'dailylilly', 'lilly of the valley']\n",
      "b.) False\n",
      "c.) Thorny flowers: ['rose', 'bougainvillea', 'yucca']\n",
      "d.) Poisonous Flower(s) ['lilly of the valley']\n",
      "e.) [['rose', 'bougainvillea', 'yucca', 'lilly of the valley']]\n"
     ]
    }
   ],
   "source": [
    "#Part a:\n",
    "flowers=['rose','bougainvillea','yucca','marigold','dailylilly','lilly of the valley']\n",
    "print('a.)',flowers)\n",
    "\n",
    "#Part b:\n",
    "'potato' in flowers\n",
    "print('b.)','potato' in flowers)\n",
    "\n",
    "#Part c:\n",
    "thorny=['rose','bougainvillea','yucca']\n",
    "print('c.) Thorny flowers:', thorny)\n",
    "\n",
    "#Part d:\n",
    "poisonous=['lilly of the valley']\n",
    "print('d.) Poisonous Flower(s)',poisonous)\n",
    "\n",
    "#Part e:\n",
    "dangerous=[thorny+poisonous]\n",
    "print('e.)',dangerous)"
   ]
  },
  {
   "cell_type": "markdown",
   "metadata": {},
   "source": [
    "### Exercise 2.19:"
   ]
  },
  {
   "cell_type": "code",
   "execution_count": 75,
   "metadata": {},
   "outputs": [
    {
     "name": "stdout",
     "output_type": "stream",
     "text": [
      "a.) 5\n",
      "b.) 6\n",
      "c.) 0.45454545454545453 or 45.45454545454545 %\n",
      "d.) ['N', 'N', 'N', 'N', 'N', 'N', 'Y', 'Y', 'Y', 'Y', 'Y']\n",
      "f.) 6\n"
     ]
    }
   ],
   "source": [
    "answers=['Y', 'N', 'N', 'Y', 'N', 'Y', 'Y', 'Y', 'N', 'N', 'N']\n",
    "\n",
    "#Part a:\n",
    "numYes=answers.count('Y')\n",
    "print('a.)',numYes)\n",
    "\n",
    "#Part b:\n",
    "numNo=answers.count('N')\n",
    "print('b.)',numNo)\n",
    "\n",
    "#Part c:\n",
    "percentYes=answers.count('Y')/len(answers)\n",
    "print('c.)',percentYes,'or',percentYes*100,'%')\n",
    "\n",
    "#Part d:\n",
    "answers.sort()\n",
    "print('d.)',answers)\n",
    "\n",
    "#Part e:\n",
    "f=answers.index('Y')\n",
    "print('f.)',answers.index('Y'))"
   ]
  },
  {
   "cell_type": "markdown",
   "metadata": {},
   "source": [
    "### Exercise 2.20:"
   ]
  },
  {
   "cell_type": "code",
   "execution_count": 79,
   "metadata": {},
   "outputs": [
    {
     "name": "stdout",
     "output_type": "stream",
     "text": [
      "Reversed Word is: pot\n"
     ]
    }
   ],
   "source": [
    "s='top'[::-1]\n",
    "print('Reversed Word is:',s)"
   ]
  },
  {
   "cell_type": "markdown",
   "metadata": {},
   "source": [
    "### Exercise 2.21:"
   ]
  },
  {
   "cell_type": "code",
   "execution_count": 86,
   "metadata": {},
   "outputs": [
    {
     "name": "stdout",
     "output_type": "stream",
     "text": [
      "R . R\n"
     ]
    }
   ],
   "source": [
    "s='Riordan'\n",
    "t='Rick'\n",
    "print(s[0],'.',t[0])"
   ]
  },
  {
   "cell_type": "markdown",
   "metadata": {},
   "source": [
    "### Exercise 2.22:"
   ]
  },
  {
   "cell_type": "code",
   "execution_count": 36,
   "metadata": {},
   "outputs": [
    {
     "name": "stdout",
     "output_type": "stream",
     "text": [
      "The range is: 16\n"
     ]
    }
   ],
   "source": [
    "numbers=[1,3,-6,5,10]\n",
    "diff=max(numbers)-min(numbers)\n",
    "print('The range is:',diff)"
   ]
  },
  {
   "cell_type": "markdown",
   "metadata": {},
   "source": [
    "### Exercise 2.23: Lists"
   ]
  },
  {
   "cell_type": "code",
   "execution_count": 16,
   "metadata": {},
   "outputs": [
    {
     "name": "stdout",
     "output_type": "stream",
     "text": [
      "a.) List A: ['Jan', 'Feb', 'Mar', 'April', 'May']\n",
      "b.) List B: ['Jan', 'Feb', 'Mar', 'April', 'May', 'Jun']\n",
      "c.) List C: ['Jan', 'Feb', 'Mar', 'April', 'May']\n",
      "d.) List D: ['Jan', 'Mar', 'April', 'May']\n",
      "e.) List E: ['May', 'April', 'Mar', 'Jan']\n",
      "f.) List F: ['April', 'Jan', 'Mar', 'May']\n"
     ]
    }
   ],
   "source": [
    "monthsL=['Jan','Feb','Mar','May']\n",
    "\n",
    "#Part a:\n",
    "monthsL.insert(3, 'April')\n",
    "print('a.) List A:',monthsL)\n",
    "\n",
    "#Part b:\n",
    "monthsL.append('Jun')\n",
    "print('b.) List B:',monthsL)\n",
    "\n",
    "#Part c:\n",
    "monthsL.pop()\n",
    "print('c.) List C:',monthsL)\n",
    "\n",
    "#Part d:\n",
    "monthsL.remove('Feb')\n",
    "print('d.) List D:',monthsL)\n",
    "\n",
    "#Part e:\n",
    "monthsL.reverse()\n",
    "print('e.) List E:', monthsL)\n",
    "\n",
    "#Part f:\n",
    "monthsL.sort()\n",
    "print('f.) List F:', monthsL)"
   ]
  },
  {
   "cell_type": "markdown",
   "metadata": {},
   "source": [
    "### Exercise 2.23: Tuples"
   ]
  },
  {
   "cell_type": "code",
   "execution_count": 17,
   "metadata": {},
   "outputs": [
    {
     "ename": "AttributeError",
     "evalue": "'tuple' object has no attribute 'insert'",
     "output_type": "error",
     "traceback": [
      "\u001b[1;31m---------------------------------------------------------------------------\u001b[0m",
      "\u001b[1;31mAttributeError\u001b[0m                            Traceback (most recent call last)",
      "\u001b[1;32m<ipython-input-17-d939a90d05d5>\u001b[0m in \u001b[0;36m<module>\u001b[1;34m\u001b[0m\n\u001b[0;32m      2\u001b[0m \u001b[1;33m\u001b[0m\u001b[0m\n\u001b[0;32m      3\u001b[0m \u001b[1;31m#Part a:\u001b[0m\u001b[1;33m\u001b[0m\u001b[1;33m\u001b[0m\u001b[1;33m\u001b[0m\u001b[0m\n\u001b[1;32m----> 4\u001b[1;33m \u001b[0mmonthsT\u001b[0m\u001b[1;33m.\u001b[0m\u001b[0minsert\u001b[0m\u001b[1;33m(\u001b[0m\u001b[1;36m3\u001b[0m\u001b[1;33m,\u001b[0m\u001b[1;34m'April'\u001b[0m\u001b[1;33m)\u001b[0m\u001b[1;33m\u001b[0m\u001b[1;33m\u001b[0m\u001b[0m\n\u001b[0m\u001b[0;32m      5\u001b[0m \u001b[0mprint\u001b[0m\u001b[1;33m(\u001b[0m\u001b[1;34m'a.) Tuple A:'\u001b[0m\u001b[1;33m,\u001b[0m\u001b[0mmonthsT\u001b[0m\u001b[1;33m)\u001b[0m\u001b[1;33m\u001b[0m\u001b[1;33m\u001b[0m\u001b[0m\n\u001b[0;32m      6\u001b[0m \u001b[1;33m\u001b[0m\u001b[0m\n",
      "\u001b[1;31mAttributeError\u001b[0m: 'tuple' object has no attribute 'insert'"
     ]
    }
   ],
   "source": [
    "monthsT=('Jan','Feb','Mar','May')\n",
    "\n",
    "#Part a:\n",
    "monthsT.insert(3,'April')\n",
    "print('a.) Tuple A:',monthsT)\n",
    "\n",
    "#Part b:\n",
    "monthsT.appned('Jun')\n",
    "print('b.) Tuple B:',monthsT)\n",
    "\n",
    "#Part c:\n",
    "monthsT.pop()\n",
    "print('c.) Tuple C:', monthsT)\n",
    "\n",
    "#Part d:\n",
    "monthsT.remove('Feb')\n",
    "print('d.) Tuple D:', monthsT)\n",
    "\n",
    "#Part e:\n",
    "monthsT.reverse()\n",
    "print('e.) Tuple E:', monthsT)\n",
    "\n",
    "#Part f:\n",
    "monthsT.sort()\n",
    "print('f.) List F:', monthsT)"
   ]
  },
  {
   "cell_type": "markdown",
   "metadata": {},
   "source": [
    "### Exercise 2.24:"
   ]
  },
  {
   "cell_type": "code",
   "execution_count": 30,
   "metadata": {},
   "outputs": [
    {
     "name": "stdout",
     "output_type": "stream",
     "text": [
      "['A', 'A', 'A', 'A', 'B', 'B', 'B', 'B', 'C', 'C', 'D', 'D', 'F']\n",
      "[4, 4, 2, 2, 1]\n"
     ]
    }
   ],
   "source": [
    "grades=['B','B','F','C','B','A','A','D','C','D','A','A','B']\n",
    "grades.sort()\n",
    "print(grades)\n",
    "\n",
    "g0=grades.count('A')\n",
    "g1=grades.count('B')\n",
    "g2=grades.count('C')\n",
    "g3=grades.count('D')\n",
    "g4=grades.count('F')\n",
    "\n",
    "print([g0,g1,g2,g3,g4])\n",
    "\n"
   ]
  },
  {
   "cell_type": "markdown",
   "metadata": {},
   "source": [
    "### Exercise 2.25:"
   ]
  },
  {
   "cell_type": "code",
   "execution_count": 33,
   "metadata": {},
   "outputs": [
    {
     "name": "stdout",
     "output_type": "stream",
     "text": [
      "('A', 'A', 'A', 'A', 'B', 'B', 'B', 'B', 'C', 'C', 'D', 'D', 'F')\n",
      "(4, 4, 2, 2, 1)\n"
     ]
    }
   ],
   "source": [
    "grades=('B','B','F','C','B','A','A','D','C','D','A','A','B')\n",
    "gradesL=list(grades)\n",
    "gradesL.sort()\n",
    "\n",
    "grades=tuple(gradesL)\n",
    "print(grades)\n",
    "\n",
    "g0=gradesL.count('A')\n",
    "g1=gradesL.count('B')\n",
    "g2=gradesL.count('C')\n",
    "g3=gradesL.count('D')\n",
    "g4=gradesL.count('F')\n",
    "\n",
    "grades=tuple(gradesL)\n",
    "print((g0,g1,g2,g3,g4))\n",
    "\n"
   ]
  },
  {
   "cell_type": "markdown",
   "metadata": {},
   "source": [
    "### Exercise 2.26:"
   ]
  },
  {
   "cell_type": "code",
   "execution_count": 35,
   "metadata": {},
   "outputs": [
    {
     "name": "stdout",
     "output_type": "stream",
     "text": [
      "a.) True\n",
      "b.) False\n",
      "c.) True\n",
      "d.) False\n"
     ]
    }
   ],
   "source": [
    "import math\n",
    "Radius=10\n",
    "x1=0\n",
    "y1=0\n",
    "\n",
    "#Formula for distance of radius: r=sqrt((x2-x1)^2+(y2-y1)^2)\n",
    "a=math.sqrt((0-0)**2 + (0-0)**2)\n",
    "print('a.)',a<10)\n",
    "\n",
    "b=math.sqrt((10-0)**2 + (10-0)**2) \n",
    "print('b.)', b<10)\n",
    "\n",
    "c=math.sqrt((6-0)**2 + (-6-0)**2)\n",
    "print('c.)', c<10)\n",
    "\n",
    "d=math.sqrt((-7-0)**2 + (8-0)**2)\n",
    "print('d.)', d<10)\n"
   ]
  },
  {
   "cell_type": "markdown",
   "metadata": {},
   "source": [
    "### Exercise 2.27:"
   ]
  },
  {
   "cell_type": "code",
   "execution_count": 4,
   "metadata": {},
   "outputs": [
    {
     "name": "stdout",
     "output_type": "stream",
     "text": [
      "a.) 15.455515858074026\n",
      "b.) 0.0\n",
      "b.) 16.972290884929595\n",
      "b.) 23.636140191205424\n"
     ]
    }
   ],
   "source": [
    "import math\n",
    "#Part a:\n",
    "length1=16\n",
    "degrees1=75\n",
    "pi=3.142\n",
    "radians1=(pi*degrees1)/(180)                                     \n",
    "height1=length1*sin(radians1)\n",
    "print('a.)', height1)\n",
    "\n",
    "#Part b:\n",
    "length2=20\n",
    "degrees2=0\n",
    "pi=3.142\n",
    "radians2=(pi*degrees2)/(180)                                     \n",
    "height2=length2*sin(radians2)\n",
    "print('b.)', height2)\n",
    "\n",
    "#Part c:\n",
    "length3=24\n",
    "degrees3=45\n",
    "radians3=(pi*degrees3)/(180)                                     \n",
    "height3=length3*sin(radians3)\n",
    "print('b.)', height3)\n",
    "\n",
    "#Part d:\n",
    "length4=24\n",
    "degrees4=80\n",
    "radians4=(pi*degrees4)/(180)                                     \n",
    "height4=length4*sin(radians4)\n",
    "print('b.)', height4)"
   ]
  },
  {
   "cell_type": "markdown",
   "metadata": {},
   "source": [
    "### Exercise 2.28:"
   ]
  },
  {
   "cell_type": "code",
   "execution_count": 5,
   "metadata": {},
   "outputs": [
    {
     "name": "stdout",
     "output_type": "stream",
     "text": [
      "Odd number list middle: 3.5\n",
      "First middle of List= 2.0\n",
      "Second middle of List= 3.0\n",
      "List in descending order: [7, 6, 5, 4, 3, 2, 1]\n",
      "First item in the last position [6, 5, 4, 3, 2, 1, 7]\n"
     ]
    }
   ],
   "source": [
    "#Odd numbered list:\n",
    "lst_odd=[1,2,3,4,5,6,7]\n",
    "middle=len(lst_odd) / 2\n",
    "print('Odd number list middle:',middle)\n",
    "#Even Numbered List:\n",
    "lst_even=[2,4,6,8,10,12]\n",
    "firstmid=(len(lst_even)/2)-1\n",
    "secondmid=len(lst_even)/2\n",
    "print(\"First middle of List=\",firstmid)\n",
    "print(\"Second middle of List=\",secondmid)\n",
    "\n",
    "#Sort the list into descending order:\n",
    "lst_odd.reverse()\n",
    "print('List in descending order:', lst_odd)\n",
    "\n",
    "#Put the first item at the last:\n",
    "lst_odd.remove(7)\n",
    "lst_odd.append(7)\n",
    "print('First item in the last position', lst_odd)"
   ]
  },
  {
   "cell_type": "markdown",
   "metadata": {},
   "source": [
    "### Exercise 2.29:"
   ]
  },
  {
   "cell_type": "code",
   "execution_count": 1,
   "metadata": {},
   "outputs": [
    {
     "name": "stdout",
     "output_type": "stream",
     "text": [
      "a.) False\n",
      "b.) False\n",
      "c.) True\n"
     ]
    }
   ],
   "source": [
    "print('a.)',(0==1==2))\n",
    "\n",
    "print('b.)', (2+3)==(4+5)==7)\n",
    "\n",
    "print('c.)',(1<(-1))==(3>4))\n",
    "\n"
   ]
  },
  {
   "cell_type": "markdown",
   "metadata": {},
   "source": [
    "### Exercise 2.30:"
   ]
  },
  {
   "cell_type": "code",
   "execution_count": 3,
   "metadata": {},
   "outputs": [
    {
     "name": "stdout",
     "output_type": "stream",
     "text": [
      "['Usman', 'Institute', 'of', 'Technology']\n"
     ]
    }
   ],
   "source": [
    "def orig_string(string): \n",
    "    converted_string = list(string.split(\" \")) \n",
    "    return converted_string \n",
    "      \n",
    "str1 = \"Usman Institute of Technology\"\n",
    "print(orig_string(str1)) "
   ]
  },
  {
   "cell_type": "markdown",
   "metadata": {},
   "source": [
    "### Exercise 2.31:"
   ]
  },
  {
   "cell_type": "markdown",
   "metadata": {},
   "source": [
    "### extend() :This function is used to extend the list with the elements present in another list. This function takes another list as its argument.\n"
   ]
  },
  {
   "cell_type": "markdown",
   "metadata": {},
   "source": [
    "###  clear() :This function is used to erase all the elements of list. After this operation the list becomes empty."
   ]
  },
  {
   "cell_type": "markdown",
   "metadata": {},
   "source": [
    "### copy():This function returns a copy of the original list and doesn't modify the original list."
   ]
  }
 ],
 "metadata": {
  "kernelspec": {
   "display_name": "Python 3",
   "language": "python",
   "name": "python3"
  },
  "language_info": {
   "codemirror_mode": {
    "name": "ipython",
    "version": 3
   },
   "file_extension": ".py",
   "mimetype": "text/x-python",
   "name": "python",
   "nbconvert_exporter": "python",
   "pygments_lexer": "ipython3",
   "version": "3.7.4"
  }
 },
 "nbformat": 4,
 "nbformat_minor": 2
}
